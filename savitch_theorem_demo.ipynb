{
  "nbformat": 4,
  "nbformat_minor": 0,
  "metadata": {
    "colab": {
      "provenance": [],
      "authorship_tag": "ABX9TyMja2K87X0uaMJQRiWS1bWb",
      "include_colab_link": true
    },
    "kernelspec": {
      "name": "python3",
      "display_name": "Python 3"
    },
    "language_info": {
      "name": "python"
    }
  },
  "cells": [
    {
      "cell_type": "markdown",
      "metadata": {
        "id": "view-in-github",
        "colab_type": "text"
      },
      "source": [
        "<a href=\"https://colab.research.google.com/github/bahing-rai/Introduction-to-AI/blob/main/savitch_theorem_demo.ipynb\" target=\"_parent\"><img src=\"https://colab.research.google.com/assets/colab-badge.svg\" alt=\"Open In Colab\"/></a>"
      ]
    },
    {
      "cell_type": "code",
      "execution_count": 1,
      "metadata": {
        "colab": {
          "base_uri": "https://localhost:8080/"
        },
        "id": "uhskrENW18Pm",
        "outputId": "bb3a3f33-f48d-45c6-980b-6c40149e383d"
      },
      "outputs": [
        {
          "output_type": "stream",
          "name": "stdout",
          "text": [
            "Is there a path from 0 to 3 within 4 steps? -> True\n"
          ]
        }
      ],
      "source": [
        "# savitch_theorem_demo.py\n",
        "\n",
        "# Directed graph represented as an adjacency list\n",
        "graph = {\n",
        "    0: [1, 2],\n",
        "    1: [2],\n",
        "    2: [0, 3],\n",
        "    3: [3]\n",
        "}\n",
        "\n",
        "def is_reachable(u, v, t):\n",
        "    \"\"\"\n",
        "    Returns True if there's a path from u to v of length ≤ t\n",
        "    using Savitch's Algorithm (recursive)\n",
        "    \"\"\"\n",
        "    if t == 0:\n",
        "        return u == v\n",
        "    if t == 1:\n",
        "        return v in graph.get(u, [])\n",
        "\n",
        "    for z in graph:\n",
        "        if is_reachable(u, z, t // 2) and is_reachable(z, v, t // 2):\n",
        "            return True\n",
        "    return False\n",
        "\n",
        "# Example: Check if there's a path from node 0 to node 3 in ≤ 4 steps\n",
        "u, v, t = 0, 3, 4\n",
        "reachable = is_reachable(u, v, t)\n",
        "print(f\"Is there a path from {u} to {v} within {t} steps? -> {reachable}\")\n"
      ]
    }
  ]
}