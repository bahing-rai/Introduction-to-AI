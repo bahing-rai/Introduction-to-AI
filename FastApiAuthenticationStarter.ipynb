{
  "nbformat": 4,
  "nbformat_minor": 0,
  "metadata": {
    "colab": {
      "provenance": [],
      "authorship_tag": "ABX9TyNxNkmgJcsCFHiumvC278To",
      "include_colab_link": true
    },
    "kernelspec": {
      "name": "python3",
      "display_name": "Python 3"
    },
    "language_info": {
      "name": "python"
    }
  },
  "cells": [
    {
      "cell_type": "markdown",
      "metadata": {
        "id": "view-in-github",
        "colab_type": "text"
      },
      "source": [
        "<a href=\"https://colab.research.google.com/github/bahing-rai/Introduction-to-AI/blob/main/FastApiAuthenticationStarter.ipynb\" target=\"_parent\"><img src=\"https://colab.research.google.com/assets/colab-badge.svg\" alt=\"Open In Colab\"/></a>"
      ]
    },
    {
      "cell_type": "code",
      "execution_count": 3,
      "metadata": {
        "colab": {
          "base_uri": "https://localhost:8080/",
          "height": 383
        },
        "id": "ZWmfEn2twHol",
        "outputId": "b666303a-7bff-4d65-b7b5-13dc195fec3c"
      },
      "outputs": [
        {
          "output_type": "error",
          "ename": "ModuleNotFoundError",
          "evalue": "No module named 'jose'",
          "traceback": [
            "\u001b[0;31m---------------------------------------------------------------------------\u001b[0m",
            "\u001b[0;31mModuleNotFoundError\u001b[0m                       Traceback (most recent call last)",
            "\u001b[0;32m/tmp/ipython-input-3-1496196873.py\u001b[0m in \u001b[0;36m<cell line: 0>\u001b[0;34m()\u001b[0m\n\u001b[1;32m      4\u001b[0m \u001b[0;32mfrom\u001b[0m \u001b[0mpydantic\u001b[0m \u001b[0;32mimport\u001b[0m \u001b[0mBaseModel\u001b[0m\u001b[0;34m\u001b[0m\u001b[0;34m\u001b[0m\u001b[0m\n\u001b[1;32m      5\u001b[0m \u001b[0;32mfrom\u001b[0m \u001b[0mdatetime\u001b[0m \u001b[0;32mimport\u001b[0m \u001b[0mdatetime\u001b[0m\u001b[0;34m,\u001b[0m \u001b[0mtimedelta\u001b[0m\u001b[0;34m\u001b[0m\u001b[0;34m\u001b[0m\u001b[0m\n\u001b[0;32m----> 6\u001b[0;31m \u001b[0;32mfrom\u001b[0m \u001b[0mjose\u001b[0m \u001b[0;32mimport\u001b[0m \u001b[0mJWTError\u001b[0m\u001b[0;34m,\u001b[0m \u001b[0mjwt\u001b[0m\u001b[0;34m\u001b[0m\u001b[0;34m\u001b[0m\u001b[0m\n\u001b[0m\u001b[1;32m      7\u001b[0m \u001b[0;32mfrom\u001b[0m \u001b[0mpasslib\u001b[0m\u001b[0;34m.\u001b[0m\u001b[0mcontext\u001b[0m \u001b[0;32mimport\u001b[0m \u001b[0mCryptContext\u001b[0m\u001b[0;34m\u001b[0m\u001b[0;34m\u001b[0m\u001b[0m\n\u001b[1;32m      8\u001b[0m \u001b[0;32mfrom\u001b[0m \u001b[0mtyping\u001b[0m \u001b[0;32mimport\u001b[0m \u001b[0mOptional\u001b[0m\u001b[0;34m\u001b[0m\u001b[0;34m\u001b[0m\u001b[0m\n",
            "\u001b[0;31mModuleNotFoundError\u001b[0m: No module named 'jose'",
            "",
            "\u001b[0;31m---------------------------------------------------------------------------\u001b[0;32m\nNOTE: If your import is failing due to a missing package, you can\nmanually install dependencies using either !pip or !apt.\n\nTo view examples of installing some common dependencies, click the\n\"Open Examples\" button below.\n\u001b[0;31m---------------------------------------------------------------------------\u001b[0m\n"
          ],
          "errorDetails": {
            "actions": [
              {
                "action": "open_url",
                "actionText": "Open Examples",
                "url": "/notebooks/snippets/importing_libraries.ipynb"
              }
            ]
          }
        }
      ],
      "source": [
        "# main.py - Complete FastAPI Application with Authentication\n",
        "from fastapi import FastAPI, Depends, HTTPException, status\n",
        "from fastapi.security import OAuth2PasswordBearer, OAuth2PasswordRequestForm\n",
        "from pydantic import BaseModel\n",
        "from datetime import datetime, timedelta\n",
        "from jose import JWTError, jwt\n",
        "from passlib.context import CryptContext\n",
        "from typing import Optional\n",
        "\n",
        "# App configuration\n",
        "app = FastAPI(\n",
        "    title=\"Portfolio API\",\n",
        "    description=\"A professional API example for your GitHub portfolio\",\n",
        "    version=\"1.0\"\n",
        ")\n",
        "\n",
        "# Security configuration\n",
        "SECRET_KEY = \"your-secret-key-here\"  # Change this in production!\n",
        "ALGORITHM = \"HS256\"\n",
        "ACCESS_TOKEN_EXPIRE_MINUTES = 30\n",
        "\n",
        "# Mock database\n",
        "fake_users_db = {\n",
        "    \"johndoe\": {\n",
        "        \"username\": \"johndoe\",\n",
        "        \"full_name\": \"John Doe\",\n",
        "        \"email\": \"johndoe@example.com\",\n",
        "        \"hashed_password\": \"$2b$12$EixZaYVK1fsbw1ZfbX3OXePaWxn96p36WQoeG6Lruj3vjPGga31lW\",\n",
        "        \"disabled\": False,\n",
        "    }\n",
        "}\n",
        "\n",
        "# Models\n",
        "class Token(BaseModel):\n",
        "    access_token: str\n",
        "    token_type: str\n",
        "\n",
        "class TokenData(BaseModel):\n",
        "    username: Optional[str] = None\n",
        "\n",
        "class User(BaseModel):\n",
        "    username: str\n",
        "    email: Optional[str] = None\n",
        "    full_name: Optional[str] = None\n",
        "    disabled: Optional[bool] = None\n",
        "\n",
        "class UserInDB(User):\n",
        "    hashed_password: str\n",
        "\n",
        "# Security utilities\n",
        "pwd_context = CryptContext(schemes=[\"bcrypt\"], deprecated=\"auto\")\n",
        "oauth2_scheme = OAuth2PasswordBearer(tokenUrl=\"token\")\n",
        "\n",
        "def verify_password(plain_password: str, hashed_password: str):\n",
        "    return pwd_context.verify(plain_password, hashed_password)\n",
        "\n",
        "def get_password_hash(password: str):\n",
        "    return pwd_context.hash(password)\n",
        "\n",
        "def get_user(db, username: str):\n",
        "    if username in db:\n",
        "        user_dict = db[username]\n",
        "        return UserInDB(**user_dict)\n",
        "\n",
        "def authenticate_user(fake_db, username: str, password: str):\n",
        "    user = get_user(fake_db, username)\n",
        "    if not user:\n",
        "        return False\n",
        "    if not verify_password(password, user.hashed_password):\n",
        "        return False\n",
        "    return user\n",
        "\n",
        "def create_access_token(data: dict, expires_delta: Optional[timedelta] = None):\n",
        "    to_encode = data.copy()\n",
        "    if expires_delta:\n",
        "        expire = datetime.utcnow() + expires_delta\n",
        "    else:\n",
        "        expire = datetime.utcnow() + timedelta(minutes=15)\n",
        "    to_encode.update({\"exp\": expire})\n",
        "    encoded_jwt = jwt.encode(to_encode, SECRET_KEY, algorithm=ALGORITHM)\n",
        "    return encoded_jwt\n",
        "\n",
        "async def get_current_user(token: str = Depends(oauth2_scheme)):\n",
        "    credentials_exception = HTTPException(\n",
        "        status_code=status.HTTP_401_UNAUTHORIZED,\n",
        "        detail=\"Could not validate credentials\",\n",
        "        headers={\"WWW-Authenticate\": \"Bearer\"},\n",
        "    )\n",
        "    try:\n",
        "        payload = jwt.decode(token, SECRET_KEY, algorithms=[ALGORITHM])\n",
        "        username: str = payload.get(\"sub\")\n",
        "        if username is None:\n",
        "            raise credentials_exception\n",
        "        token_data = TokenData(username=username)\n",
        "    except JWTError:\n",
        "        raise credentials_exception\n",
        "    user = get_user(fake_users_db, username=token_data.username)\n",
        "    if user is None:\n",
        "        raise credentials_exception\n",
        "    return user\n",
        "\n",
        "async def get_current_active_user(current_user: User = Depends(get_current_user)):\n",
        "    if current_user.disabled:\n",
        "        raise HTTPException(status_code=400, detail=\"Inactive user\")\n",
        "    return current_user\n",
        "\n",
        "# Routes\n",
        "@app.post(\"/token\", response_model=Token)\n",
        "async def login_for_access_token(form_data: OAuth2PasswordRequestForm = Depends()):\n",
        "    user = authenticate_user(fake_users_db, form_data.username, form_data.password)\n",
        "    if not user:\n",
        "        raise HTTPException(\n",
        "            status_code=status.HTTP_401_UNAUTHORIZED,\n",
        "            detail=\"Incorrect username or password\",\n",
        "            headers={\"WWW-Authenticate\": \"Bearer\"},\n",
        "        )\n",
        "    access_token_expires = timedelta(minutes=ACCESS_TOKEN_EXPIRE_MINUTES)\n",
        "    access_token = create_access_token(\n",
        "        data={\"sub\": user.username}, expires_delta=access_token_expires\n",
        "    )\n",
        "    return {\"access_token\": access_token, \"token_type\": \"bearer\"}\n",
        "\n",
        "@app.get(\"/users/me\", response_model=User)\n",
        "async def read_users_me(current_user: User = Depends(get_current_active_user)):\n",
        "    return current_user\n",
        "\n",
        "@app.get(\"/\")\n",
        "async def root():\n",
        "    return {\n",
        "        \"message\": \"Welcome to your portfolio API!\",\n",
        "        \"docs\": \"/docs\",\n",
        "        \"redoc\": \"/redoc\"\n",
        "    }\n",
        "\n",
        "# Protected route example\n",
        "@app.get(\"/protected\")\n",
        "async def protected_route(current_user: User = Depends(get_current_active_user)):\n",
        "    return {\n",
        "        \"message\": f\"Hello {current_user.full_name}!\",\n",
        "        \"your_data\": \"This is protected data\"\n",
        "    }"
      ]
    },
    {
      "cell_type": "code",
      "source": [],
      "metadata": {
        "id": "4ucG6R2fzFJo"
      },
      "execution_count": null,
      "outputs": []
    }
  ]
}